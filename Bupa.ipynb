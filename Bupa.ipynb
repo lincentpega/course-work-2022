{
  "cells": [
    {
      "cell_type": "markdown",
      "metadata": {
        "id": "view-in-github",
        "colab_type": "text"
      },
      "source": [
        "<a href=\"https://colab.research.google.com/github/lincentpega/course-work-2022/blob/main/Bupa.ipynb\" target=\"_parent\"><img src=\"https://colab.research.google.com/assets/colab-badge.svg\" alt=\"Open In Colab\"/></a>"
      ]
    },
    {
      "cell_type": "code",
      "execution_count": 13,
      "id": "a76732c0",
      "metadata": {
        "colab": {
          "base_uri": "https://localhost:8080/"
        },
        "id": "a76732c0",
        "outputId": "43284b2d-ce50-4172-cd3a-ce54f107a308"
      },
      "outputs": [
        {
          "output_type": "stream",
          "name": "stdout",
          "text": [
            "Drive already mounted at /content/drive; to attempt to forcibly remount, call drive.mount(\"/content/drive\", force_remount=True).\n"
          ]
        }
      ],
      "source": [
        "from google.colab import drive\n",
        "drive.mount('/content/drive')\n",
        "\n",
        "import pandas as pd\n",
        "import numpy as np\n",
        "import seaborn as sns\n",
        "\n",
        "\n",
        "import matplotlib.pyplot as plt\n",
        "from sklearn import preprocessing\n",
        "from sklearn import metrics\n",
        "\n",
        "from sklearn.model_selection import train_test_split"
      ]
    },
    {
      "cell_type": "code",
      "execution_count": 14,
      "id": "29baed49",
      "metadata": {
        "id": "29baed49"
      },
      "outputs": [],
      "source": [
        "import warnings\n",
        "warnings.simplefilter('ignore')\n",
        "\n",
        "# увеличиваем дефолтный размер графиков\n",
        "from pylab import rcParams\n",
        "rcParams['figure.figsize'] = 8, 5"
      ]
    },
    {
      "cell_type": "code",
      "execution_count": 15,
      "id": "daad80d6",
      "metadata": {
        "colab": {
          "base_uri": "https://localhost:8080/",
          "height": 206
        },
        "id": "daad80d6",
        "outputId": "916c8b49-26ba-47b3-cb56-55b00286fbbb"
      },
      "outputs": [
        {
          "output_type": "execute_result",
          "data": {
            "text/plain": [
              "   mcv  alkphos  sgpt  sgot  gammagt  drinks  selector\n",
              "0   85       64    59    32       23     0.0         1\n",
              "1   86       54    33    16       54     0.0         1\n",
              "2   91       78    34    24       36     0.0         1\n",
              "3   87       70    12    28       10     0.0         1\n",
              "4   98       55    13    17       17     0.0         1"
            ],
            "text/html": [
              "\n",
              "  <div id=\"df-bf519407-aab8-4fed-8a0e-bea68d3de558\">\n",
              "    <div class=\"colab-df-container\">\n",
              "      <div>\n",
              "<style scoped>\n",
              "    .dataframe tbody tr th:only-of-type {\n",
              "        vertical-align: middle;\n",
              "    }\n",
              "\n",
              "    .dataframe tbody tr th {\n",
              "        vertical-align: top;\n",
              "    }\n",
              "\n",
              "    .dataframe thead th {\n",
              "        text-align: right;\n",
              "    }\n",
              "</style>\n",
              "<table border=\"1\" class=\"dataframe\">\n",
              "  <thead>\n",
              "    <tr style=\"text-align: right;\">\n",
              "      <th></th>\n",
              "      <th>mcv</th>\n",
              "      <th>alkphos</th>\n",
              "      <th>sgpt</th>\n",
              "      <th>sgot</th>\n",
              "      <th>gammagt</th>\n",
              "      <th>drinks</th>\n",
              "      <th>selector</th>\n",
              "    </tr>\n",
              "  </thead>\n",
              "  <tbody>\n",
              "    <tr>\n",
              "      <th>0</th>\n",
              "      <td>85</td>\n",
              "      <td>64</td>\n",
              "      <td>59</td>\n",
              "      <td>32</td>\n",
              "      <td>23</td>\n",
              "      <td>0.0</td>\n",
              "      <td>1</td>\n",
              "    </tr>\n",
              "    <tr>\n",
              "      <th>1</th>\n",
              "      <td>86</td>\n",
              "      <td>54</td>\n",
              "      <td>33</td>\n",
              "      <td>16</td>\n",
              "      <td>54</td>\n",
              "      <td>0.0</td>\n",
              "      <td>1</td>\n",
              "    </tr>\n",
              "    <tr>\n",
              "      <th>2</th>\n",
              "      <td>91</td>\n",
              "      <td>78</td>\n",
              "      <td>34</td>\n",
              "      <td>24</td>\n",
              "      <td>36</td>\n",
              "      <td>0.0</td>\n",
              "      <td>1</td>\n",
              "    </tr>\n",
              "    <tr>\n",
              "      <th>3</th>\n",
              "      <td>87</td>\n",
              "      <td>70</td>\n",
              "      <td>12</td>\n",
              "      <td>28</td>\n",
              "      <td>10</td>\n",
              "      <td>0.0</td>\n",
              "      <td>1</td>\n",
              "    </tr>\n",
              "    <tr>\n",
              "      <th>4</th>\n",
              "      <td>98</td>\n",
              "      <td>55</td>\n",
              "      <td>13</td>\n",
              "      <td>17</td>\n",
              "      <td>17</td>\n",
              "      <td>0.0</td>\n",
              "      <td>1</td>\n",
              "    </tr>\n",
              "  </tbody>\n",
              "</table>\n",
              "</div>\n",
              "      <button class=\"colab-df-convert\" onclick=\"convertToInteractive('df-bf519407-aab8-4fed-8a0e-bea68d3de558')\"\n",
              "              title=\"Convert this dataframe to an interactive table.\"\n",
              "              style=\"display:none;\">\n",
              "        \n",
              "  <svg xmlns=\"http://www.w3.org/2000/svg\" height=\"24px\"viewBox=\"0 0 24 24\"\n",
              "       width=\"24px\">\n",
              "    <path d=\"M0 0h24v24H0V0z\" fill=\"none\"/>\n",
              "    <path d=\"M18.56 5.44l.94 2.06.94-2.06 2.06-.94-2.06-.94-.94-2.06-.94 2.06-2.06.94zm-11 1L8.5 8.5l.94-2.06 2.06-.94-2.06-.94L8.5 2.5l-.94 2.06-2.06.94zm10 10l.94 2.06.94-2.06 2.06-.94-2.06-.94-.94-2.06-.94 2.06-2.06.94z\"/><path d=\"M17.41 7.96l-1.37-1.37c-.4-.4-.92-.59-1.43-.59-.52 0-1.04.2-1.43.59L10.3 9.45l-7.72 7.72c-.78.78-.78 2.05 0 2.83L4 21.41c.39.39.9.59 1.41.59.51 0 1.02-.2 1.41-.59l7.78-7.78 2.81-2.81c.8-.78.8-2.07 0-2.86zM5.41 20L4 18.59l7.72-7.72 1.47 1.35L5.41 20z\"/>\n",
              "  </svg>\n",
              "      </button>\n",
              "      \n",
              "  <style>\n",
              "    .colab-df-container {\n",
              "      display:flex;\n",
              "      flex-wrap:wrap;\n",
              "      gap: 12px;\n",
              "    }\n",
              "\n",
              "    .colab-df-convert {\n",
              "      background-color: #E8F0FE;\n",
              "      border: none;\n",
              "      border-radius: 50%;\n",
              "      cursor: pointer;\n",
              "      display: none;\n",
              "      fill: #1967D2;\n",
              "      height: 32px;\n",
              "      padding: 0 0 0 0;\n",
              "      width: 32px;\n",
              "    }\n",
              "\n",
              "    .colab-df-convert:hover {\n",
              "      background-color: #E2EBFA;\n",
              "      box-shadow: 0px 1px 2px rgba(60, 64, 67, 0.3), 0px 1px 3px 1px rgba(60, 64, 67, 0.15);\n",
              "      fill: #174EA6;\n",
              "    }\n",
              "\n",
              "    [theme=dark] .colab-df-convert {\n",
              "      background-color: #3B4455;\n",
              "      fill: #D2E3FC;\n",
              "    }\n",
              "\n",
              "    [theme=dark] .colab-df-convert:hover {\n",
              "      background-color: #434B5C;\n",
              "      box-shadow: 0px 1px 3px 1px rgba(0, 0, 0, 0.15);\n",
              "      filter: drop-shadow(0px 1px 2px rgba(0, 0, 0, 0.3));\n",
              "      fill: #FFFFFF;\n",
              "    }\n",
              "  </style>\n",
              "\n",
              "      <script>\n",
              "        const buttonEl =\n",
              "          document.querySelector('#df-bf519407-aab8-4fed-8a0e-bea68d3de558 button.colab-df-convert');\n",
              "        buttonEl.style.display =\n",
              "          google.colab.kernel.accessAllowed ? 'block' : 'none';\n",
              "\n",
              "        async function convertToInteractive(key) {\n",
              "          const element = document.querySelector('#df-bf519407-aab8-4fed-8a0e-bea68d3de558');\n",
              "          const dataTable =\n",
              "            await google.colab.kernel.invokeFunction('convertToInteractive',\n",
              "                                                     [key], {});\n",
              "          if (!dataTable) return;\n",
              "\n",
              "          const docLinkHtml = 'Like what you see? Visit the ' +\n",
              "            '<a target=\"_blank\" href=https://colab.research.google.com/notebooks/data_table.ipynb>data table notebook</a>'\n",
              "            + ' to learn more about interactive tables.';\n",
              "          element.innerHTML = '';\n",
              "          dataTable['output_type'] = 'display_data';\n",
              "          await google.colab.output.renderOutput(dataTable, element);\n",
              "          const docLink = document.createElement('div');\n",
              "          docLink.innerHTML = docLinkHtml;\n",
              "          element.appendChild(docLink);\n",
              "        }\n",
              "      </script>\n",
              "    </div>\n",
              "  </div>\n",
              "  "
            ]
          },
          "metadata": {},
          "execution_count": 15
        }
      ],
      "source": [
        "data = pd.read_csv('/content/drive/MyDrive/Jupyter Notebooks/Course-work-2022/Bupa/bupa.data', sep=',')\n",
        "data.columns = ['mcv', 'alkphos', 'sgpt', 'sgot', 'gammagt', 'drinks', 'selector']\n",
        "data['selector'] = data['selector'] - 1\n",
        "data.head()"
      ]
    },
    {
      "cell_type": "code",
      "execution_count": 25,
      "id": "0f916447",
      "metadata": {
        "scrolled": true,
        "id": "0f916447"
      },
      "outputs": [],
      "source": [
        "%config InlineBackend.figure_format = 'png'\n",
        "# sns.pairplot(data, hue='selector', kind=\"kde\")"
      ]
    },
    {
      "cell_type": "code",
      "execution_count": 17,
      "id": "dfc1476f",
      "metadata": {
        "id": "dfc1476f"
      },
      "outputs": [],
      "source": [
        "def sigmoid(x):\n",
        "  return 1 / (1 + np.exp(-x))\n",
        "\n",
        "def tanh(x):\n",
        "    return np.tanh(x)\n",
        "\n",
        "def deriv_tanh(x):\n",
        "    return 1 - np.square(np.tanh(x))\n",
        "\n",
        "def deriv_sigmoid(x):\n",
        "  fx = sigmoid(x)\n",
        "  return fx * (1 - fx)\n",
        "\n",
        "def mse_loss(y, y_hat):\n",
        "  return ((y - y_hat) ** 2).mean()\n",
        "\n",
        "def logloss(y, a):\n",
        "  return -(y*np.log(a) + (1-y)*np.log(1-a))\n",
        "\n",
        "def d_logloss(y, a):\n",
        "    return (a - y)/(a*(1 - a))\n",
        "\n",
        "class Layer:\n",
        "\n",
        "    activationFunctions = {\n",
        "        'tanh': (tanh, deriv_tanh),\n",
        "        'sigmoid': (sigmoid, deriv_sigmoid)\n",
        "    }\n",
        "    learning_rate = 0.1\n",
        "\n",
        "    def __init__(self, inputs, neurons, activation):\n",
        "        self.W = np.random.randn(neurons, inputs)\n",
        "        self.b = np.zeros((neurons, 1))\n",
        "        self.act, self.d_act = self.activationFunctions.get(activation)\n",
        "\n",
        "    def feedforward(self, A_prev):\n",
        "        self.A_prev = A_prev\n",
        "        self.Z = np.dot(self.W, self.A_prev) + self.b\n",
        "        self.A = self.act(self.Z)\n",
        "        return self.A\n",
        "\n",
        "    def backprop(self, dA):\n",
        "        dZ = np.multiply(self.d_act(self.Z), dA)\n",
        "        dW = 1/dZ.shape[1] * np.dot(dZ, self.A_prev.T)\n",
        "        db = 1/dZ.shape[1] * np.sum(dZ, axis=1, keepdims=True)\n",
        "        dA_prev = np.dot(self.W.T, dZ)\n",
        "\n",
        "        self.W = self.W - self.learning_rate * dW\n",
        "        self.b = self.b - self.learning_rate * db\n",
        "\n",
        "        return dA_prev"
      ]
    },
    {
      "cell_type": "code",
      "execution_count": 18,
      "id": "e54b1926",
      "metadata": {
        "id": "e54b1926"
      },
      "outputs": [],
      "source": [
        "arr = np.array(data)\n",
        "X = arr[:,:-1]\n",
        "Y = arr[:,-1:]\n",
        "x_train, x_test, y_train, y_test = train_test_split(X, Y, test_size = 0.33, random_state = 42)\n",
        "x_train = x_train.T\n",
        "y_train = y_train.T\n",
        "\n",
        "m = x_train.shape[1]\n",
        "epochs = 1000"
      ]
    },
    {
      "cell_type": "code",
      "execution_count": 19,
      "id": "a190b0e2",
      "metadata": {
        "id": "a190b0e2"
      },
      "outputs": [],
      "source": [
        "from sklearn.linear_model import LogisticRegression\n",
        "\n",
        "logisticRegr = LogisticRegression()\n",
        "logisticRegr.fit(x_train.T, y_train.T)\n",
        "log_predictions = logisticRegr.predict(x_test)"
      ]
    },
    {
      "cell_type": "code",
      "execution_count": 20,
      "id": "5478a6bb",
      "metadata": {
        "id": "5478a6bb"
      },
      "outputs": [],
      "source": [
        "# layers = [Layer(6, 15, 'tanh'), Layer(15, 5, 'tanh'), Layer(5, 1, 'sigmoid')]\n",
        "layers = [Layer(6, 10, 'tanh'), Layer(10, 6, 'tanh'), Layer(6, 1, 'sigmoid')]\n",
        "costs = [] # to plot graph \n",
        "\n",
        "for epoch in range(epochs):\n",
        "    # Feedforward\n",
        "\n",
        "    A = x_train\n",
        "    for layer in layers:\n",
        "        A = layer.feedforward(A)\n",
        "    # Calulate cost to plot graph\n",
        "    cost = 1/m * np.sum(logloss(y_train, A))\n",
        "    costs.append(cost)\n",
        "\n",
        "    # Backpropagation\n",
        "    dA = d_logloss(y_train, A)\n",
        "    for layer in reversed(layers):\n",
        "        dA = layer.backprop(dA)\n"
      ]
    },
    {
      "cell_type": "code",
      "execution_count": 28,
      "id": "f81dad88",
      "metadata": {
        "colab": {
          "base_uri": "https://localhost:8080/",
          "height": 347
        },
        "id": "f81dad88",
        "outputId": "53251ee2-3a4b-4ebb-a1c8-595cb682471d"
      },
      "outputs": [
        {
          "output_type": "display_data",
          "data": {
            "text/plain": [
              "<Figure size 576x360 with 1 Axes>"
            ],
            "image/png": "[encoded data removed]"
          },
          "metadata": {}
        }
      ],
      "source": [
        "import matplotlib.pyplot as plt\n",
        "plt.plot(range(epochs), costs)\n",
        "plt.title('График функции потерь')\n",
        "plt.show()"
      ]
    },
    {
      "cell_type": "code",
      "execution_count": 22,
      "id": "a0f110b9",
      "metadata": {
        "id": "a0f110b9"
      },
      "outputs": [],
      "source": [
        "x_test = x_test.T\n",
        "m = x_test[1]\n",
        "\n",
        "# Making predictions\n",
        "A = x_test\n",
        "for layer in layers:\n",
        "    A = layer.feedforward(A)\n",
        "A = np.around(A) # округление, чтобы получить one hote code\n",
        "\n",
        "y_cap = A.T.copy()"
      ]
    },
    {
      "cell_type": "code",
      "execution_count": 27,
      "id": "5786ca1a",
      "metadata": {
        "scrolled": false,
        "colab": {
          "base_uri": "https://localhost:8080/",
          "height": 427
        },
        "id": "5786ca1a",
        "outputId": "2542a6d4-e682-4ff4-a269-b1341e3e7d4d"
      },
      "outputs": [
        {
          "output_type": "stream",
          "name": "stdout",
          "text": [
            "accuracy =  0.7017543859649122\n",
            "precision =  0.6829268292682927\n",
            "recall =  0.875\n"
          ]
        },
        {
          "output_type": "display_data",
          "data": {
            "text/plain": [
              "<Figure size 576x360 with 2 Axes>"
            ],
            "image/png": "[encoded data removed]"
          },
          "metadata": {}
        }
      ],
      "source": [
        "from sklearn import metrics\n",
        "conf_matrix = metrics.confusion_matrix(y_test, y_cap)\n",
        "\n",
        "TP = conf_matrix[1][1]\n",
        "TN = conf_matrix[0][0]\n",
        "FP = conf_matrix[0][1]\n",
        "FN = conf_matrix[1][0]\n",
        "\n",
        "accuracy = (TP + TN) / (TP + TN + FP + FN)\n",
        "print('accuracy = ', accuracy) \n",
        "\n",
        "precision = TP / (TP + FP)\n",
        "print('precision = ', precision)\n",
        "\n",
        "recall = TP / (TP + FN)\n",
        "print('recall = ', recall)\n",
        "\n",
        "df_cm = pd.DataFrame(conf_matrix, range(2), range(2))\n",
        "sns.set(font_scale=1.4)\n",
        "sns.heatmap(df_cm, annot=True, annot_kws={\"size\": 16})\n",
        "plt.xlabel('Result set')\n",
        "plt.ylabel('Trainting set')\n",
        "plt.title('Neural network')\n",
        "plt.show()\n"
      ]
    },
    {
      "cell_type": "code",
      "execution_count": 29,
      "id": "7baf01ff",
      "metadata": {
        "colab": {
          "base_uri": "https://localhost:8080/",
          "height": 427
        },
        "id": "7baf01ff",
        "outputId": "34bbca0e-1000-41e7-c2c2-529a1f487271"
      },
      "outputs": [
        {
          "output_type": "stream",
          "name": "stdout",
          "text": [
            "accuracy =  0.6842105263157895\n",
            "precision =  0.675\n",
            "recall =  0.84375\n"
          ]
        },
        {
          "output_type": "display_data",
          "data": {
            "text/plain": [
              "<Figure size 576x360 with 2 Axes>"
            ],
            "image/png": "[encoded data removed]"
          },
          "metadata": {}
        }
      ],
      "source": [
        "log_conf_matrix = metrics.confusion_matrix(y_test, log_predictions)\n",
        "\n",
        "TP = log_conf_matrix[1][1]\n",
        "TN = log_conf_matrix[0][0]\n",
        "FP = log_conf_matrix[0][1]\n",
        "FN = log_conf_matrix[1][0]\n",
        "\n",
        "accuracy = (TP + TN) / (TP + TN + FP + FN)\n",
        "print('accuracy = ', accuracy) \n",
        "\n",
        "precision = TP / (TP + FP)\n",
        "print('precision = ', precision)\n",
        "\n",
        "recall = TP / (TP + FN)\n",
        "print('recall = ', recall)\n",
        "\n",
        "df_cm = pd.DataFrame(log_conf_matrix, range(2), range(2))\n",
        "sns.set(font_scale=1.4)\n",
        "sns.heatmap(df_cm, annot=True, annot_kws={\"size\": 16})\n",
        "plt.xlabel('Result set')\n",
        "plt.ylabel('Trainting set')\n",
        "plt.title('Logistic regression')\n",
        "plt.show()\n"
      ]
    }
  ],
  "metadata": {
    "kernelspec": {
      "display_name": "Python 3 (ipykernel)",
      "language": "python",
      "name": "python3"
    },
    "language_info": {
      "codemirror_mode": {
        "name": "ipython",
        "version": 3
      },
      "file_extension": ".py",
      "mimetype": "text/x-python",
      "name": "python",
      "nbconvert_exporter": "python",
      "pygments_lexer": "ipython3",
      "version": "3.9.12"
    },
    "colab": {
      "name": "Bupa.ipynb",
      "provenance": [],
      "collapsed_sections": [],
      "include_colab_link": true
    }
  },
  "nbformat": 4,
  "nbformat_minor": 5
}