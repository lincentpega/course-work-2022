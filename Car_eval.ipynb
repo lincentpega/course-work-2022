{
  "cells": [
    {
      "cell_type": "markdown",
      "metadata": {
        "id": "view-in-github",
        "colab_type": "text"
      },
      "source": [
        "<a href=\"https://colab.research.google.com/github/lincentpega/course-work-2022/blob/main/Car_eval.ipynb\" target=\"_parent\"><img src=\"https://colab.research.google.com/assets/colab-badge.svg\" alt=\"Open In Colab\"/></a>"
      ]
    },
    {
      "cell_type": "code",
      "execution_count": null,
      "metadata": {
        "colab": {
          "base_uri": "https://localhost:8080/"
        },
        "id": "tKD1_msjd4dz",
        "outputId": "796d665e-a0a8-4c1d-f7da-759abc409a3d"
      },
      "outputs": [
        {
          "output_type": "stream",
          "name": "stdout",
          "text": [
            "Drive already mounted at /content/drive; to attempt to forcibly remount, call drive.mount(\"/content/drive\", force_remount=True).\n"
          ]
        }
      ],
      "source": [
        "from google.colab import drive\n",
        "drive.mount('/content/drive')\n",
        "\n",
        "import pandas as pd\n",
        "import numpy as np\n",
        "import seaborn as sns\n",
        "\n",
        "import matplotlib.pyplot as plt\n",
        "from sklearn import preprocessing\n",
        "from sklearn.model_selection import train_test_split"
      ]
    },
    {
      "cell_type": "code",
      "execution_count": null,
      "metadata": {
        "id": "87eN8xIQd4d3"
      },
      "outputs": [],
      "source": [
        "import warnings\n",
        "warnings.simplefilter('ignore')\n",
        "\n",
        "# увеличиваем дефолтный размер графиков\n",
        "from pylab import rcParams\n",
        "rcParams['figure.figsize'] = 8, 5"
      ]
    },
    {
      "cell_type": "code",
      "execution_count": null,
      "metadata": {
        "colab": {
          "base_uri": "https://localhost:8080/"
        },
        "id": "lZiAuX8Md4d6",
        "outputId": "97cce76e-3f1e-403e-d505-a0571442aa0a"
      },
      "outputs": [
        {
          "output_type": "execute_result",
          "data": {
            "text/plain": [
              "0    1662\n",
              "1      65\n",
              "Name: class_vgood, dtype: int64"
            ]
          },
          "metadata": {},
          "execution_count": 71
        }
      ],
      "source": [
        "data = pd.read_csv(\"/content/drive/MyDrive/Jupyter Notebooks/Course-work-2022/Car evaluate/car.data\", sep=',')\n",
        "\n",
        "data.columns = ['buying', 'maint','doors', 'persons', 'lug_boot', 'safety', 'class']\n",
        "data_copy = data.copy()\n",
        "\n",
        "data_new = pd.get_dummies(data, columns=['buying', 'maint','doors', 'persons', 'lug_boot', 'safety', 'class'])\n",
        "data_new.head()\n",
        "data_new['class_vgood'].value_counts()\n"
      ]
    },
    {
      "cell_type": "code",
      "source": [
        "# for i in data.columns:\n",
        "#     le = preprocessing.LabelEncoder().fit(data[i])\n",
        "#     data[i] = le.transform(data[i])\n",
        "#     print(i, list(le.classes_))\n",
        "\n",
        "# scaler = preprocessing.MinMaxScaler()\n",
        "# names = data.columns\n",
        "# d = scaler.fit_transform(data)\n",
        "\n",
        "# scaled_df = pd.DataFrame(d, columns=names)\n",
        "# scaled_df.head()"
      ],
      "metadata": {
        "id": "8ZisQMr8fqYK"
      },
      "execution_count": null,
      "outputs": []
    },
    {
      "cell_type": "code",
      "source": [
        ""
      ],
      "metadata": {
        "id": "g9o-f9wFgMXx"
      },
      "execution_count": null,
      "outputs": []
    },
    {
      "cell_type": "code",
      "execution_count": null,
      "metadata": {
        "id": "poFJCzved4d-"
      },
      "outputs": [],
      "source": [
        "def sigmoid(x):\n",
        "  return 1 / (1 + np.exp(-x))\n",
        "\n",
        "def tanh(x):\n",
        "    return np.tanh(x)\n",
        "\n",
        "def deriv_tanh(x):\n",
        "    return 1 - np.square(np.tanh(x))\n",
        "\n",
        "def deriv_sigmoid(x):\n",
        "  fx = sigmoid(x)\n",
        "  return fx * (1 - fx)\n",
        "\n",
        "def mse_loss(y, y_hat):\n",
        "  return ((y - y_hat) ** 2).mean()\n",
        "\n",
        "def logloss(y, a):\n",
        "  return -(y*np.log(a) + (1-y)*np.log(1-a))\n",
        "\n",
        "def d_logloss(y, a):\n",
        "    return (a - y)/(a*(1 - a))\n",
        "\n",
        "class Layer:\n",
        "\n",
        "    activationFunctions = {\n",
        "        'tanh': (tanh, deriv_tanh),\n",
        "        'sigmoid': (sigmoid, deriv_sigmoid)\n",
        "    }\n",
        "    learning_rate = 0.1\n",
        "\n",
        "    def __init__(self, inputs, neurons, activation):\n",
        "        self.W = np.random.randn(neurons, inputs)\n",
        "        self.b = np.zeros((neurons, 1))\n",
        "        self.act, self.d_act = self.activationFunctions.get(activation)\n",
        "\n",
        "    def feedforward(self, A_prev):\n",
        "        self.A_prev = A_prev\n",
        "        self.Z = np.dot(self.W, self.A_prev) + self.b\n",
        "        self.A = self.act(self.Z)\n",
        "        return self.A\n",
        "\n",
        "    def backprop(self, dA):\n",
        "        dZ = np.multiply(self.d_act(self.Z), dA)\n",
        "        dW = 1/dZ.shape[1] * np.dot(dZ, self.A_prev.T)\n",
        "        db = 1/dZ.shape[1] * np.sum(dZ, axis=1, keepdims=True)\n",
        "        dA_prev = np.dot(self.W.T, dZ)\n",
        "\n",
        "        self.W = self.W - self.learning_rate * dW\n",
        "        self.b = self.b - self.learning_rate * db\n",
        "\n",
        "        return dA_prev"
      ]
    },
    {
      "cell_type": "code",
      "execution_count": null,
      "metadata": {
        "id": "68BYtS6wd4eC"
      },
      "outputs": [],
      "source": [
        "arr = np.array(data_new)\n",
        "X = arr[:,:-4]\n",
        "Y = arr[:,-4:]\n",
        "x_train, x_test, y_train, y_test = train_test_split(X, Y, test_size = 0.33, random_state = 42)\n",
        "x_train = x_train.T\n",
        "y_train = y_train.T\n",
        "\n",
        "m = x_train.shape[1]\n",
        "epochs = 3000"
      ]
    },
    {
      "cell_type": "code",
      "execution_count": null,
      "metadata": {
        "id": "wK9cUe63d4eE"
      },
      "outputs": [],
      "source": [
        "layers = [Layer(21, 17, 'tanh'), Layer(17, 8, 'tanh'), Layer(8, 5, 'tanh'), Layer(5, 4, 'sigmoid')]\n",
        "#  layers = [Layer(21, 25, 'sigmoid'), Layer(25, 10, 'sigmoid'), Layer(10, 4, 'sigmoid')]\n",
        "costs = [] # to plot graph \n",
        "\n",
        "for epoch in range(epochs):\n",
        "    # Feedforward\n",
        "\n",
        "    A = x_train\n",
        "    for layer in layers:\n",
        "        A = layer.feedforward(A)\n",
        "    # Calulate cost to plot graph\n",
        "    cost = 1/m * np.sum(logloss(y_train, A))\n",
        "    costs.append(cost)\n",
        "\n",
        "    # Backpropagation\n",
        "    dA = d_logloss(y_train, A)\n",
        "    for layer in reversed(layers):\n",
        "        dA = layer.backprop(dA)\n"
      ]
    },
    {
      "cell_type": "code",
      "execution_count": null,
      "metadata": {
        "colab": {
          "base_uri": "https://localhost:8080/",
          "height": 346
        },
        "id": "bFFfaEz_d4eI",
        "outputId": "3dd3472f-75dc-405d-c377-d9aa275a3520"
      },
      "outputs": [
        {
          "output_type": "execute_result",
          "data": {
            "text/plain": [
              "[<matplotlib.lines.Line2D at 0x7f3c094e6e90>]"
            ]
          },
          "metadata": {},
          "execution_count": 76
        },
        {
          "output_type": "display_data",
          "data": {
            "text/plain": [
              "<Figure size 576x360 with 1 Axes>"
            ],
            "image/png": "[encoded data removed]"
          },
          "metadata": {}
        }
      ],
      "source": [
        "import matplotlib.pyplot as plt\n",
        "plt.plot(range(epochs), costs)"
      ]
    },
    {
      "cell_type": "code",
      "execution_count": null,
      "metadata": {
        "id": "_NzDPgwMd4eK"
      },
      "outputs": [],
      "source": [
        "x_test = x_test.T\n",
        "m = x_test[1]\n",
        "\n",
        "# Making predictions\n",
        "A = x_test\n",
        "for layer in layers:\n",
        "    A = layer.feedforward(A)\n",
        "A = np.around(A) # округление, чтобы получить one hote code\n",
        "\n",
        "y_cap = A.T.copy()"
      ]
    },
    {
      "cell_type": "code",
      "execution_count": null,
      "metadata": {
        "colab": {
          "base_uri": "https://localhost:8080/",
          "height": 346
        },
        "id": "u9icJzDYd4eN",
        "outputId": "e8baa078-5cc2-4531-d4b8-0153e700be43"
      },
      "outputs": [
        {
          "output_type": "stream",
          "name": "stdout",
          "text": [
            "accuracy =  0.9263157894736842\n"
          ]
        },
        {
          "output_type": "display_data",
          "data": {
            "text/plain": [
              "<Figure size 576x360 with 2 Axes>"
            ],
            "image/png": "[encoded data removed]"
          },
          "metadata": {}
        }
      ],
      "source": [
        "from sklearn import metrics\n",
        "lb = preprocessing.LabelBinarizer()\n",
        "lb.fit([1, 2, 3, 4])\n",
        "\n",
        "y_cap_integerized = lb.inverse_transform(y_cap)\n",
        "y_test_integerized = lb.inverse_transform(y_test)\n",
        "\n",
        "conf_matrix = metrics.confusion_matrix(y_test_integerized, y_cap_integerized)\n",
        "\n",
        "sum_true = 0\n",
        "sum_false = 0\n",
        "for i in range(conf_matrix.shape[0]):\n",
        "    for j in range(conf_matrix.shape[1]):\n",
        "        if i == j:\n",
        "            sum_true += conf_matrix[i][j]\n",
        "        else: sum_false += conf_matrix[i][j]\n",
        "\n",
        "accuracy = sum_true / (sum_false + sum_true)\n",
        "print('accuracy = ', accuracy) \n",
        "\n",
        "df_cm = pd.DataFrame(conf_matrix, ['acc', 'good', 'unacc', 'vgood'], ['acc', 'good', 'unacc', 'vgood'])\n",
        "sns.set(font_scale=1.4)\n",
        "sns.heatmap(df_cm, annot=True, annot_kws={\"size\": 16})\n",
        "plt.show()\n"
      ]
    },
    {
      "cell_type": "code",
      "execution_count": null,
      "metadata": {
        "id": "27VtXNeSd4eR"
      },
      "outputs": [],
      "source": [
        ""
      ]
    }
  ],
  "metadata": {
    "interpreter": {
      "hash": "69034f69c89d64ac352d2492480378d59a178c95fd81bc51ed6b8cd8986d7447"
    },
    "kernelspec": {
      "display_name": "Python 3 (ipykernel)",
      "language": "python",
      "name": "python3"
    },
    "language_info": {
      "codemirror_mode": {
        "name": "ipython",
        "version": 3
      },
      "file_extension": ".py",
      "mimetype": "text/x-python",
      "name": "python",
      "nbconvert_exporter": "python",
      "pygments_lexer": "ipython3",
      "version": "3.9.12"
    },
    "colab": {
      "name": "Car_eval.ipynb",
      "provenance": [],
      "collapsed_sections": [],
      "include_colab_link": true
    }
  },
  "nbformat": 4,
  "nbformat_minor": 0
}