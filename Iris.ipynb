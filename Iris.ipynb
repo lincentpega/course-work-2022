{
  "cells": [
    {
      "cell_type": "markdown",
      "metadata": {
        "id": "view-in-github",
        "colab_type": "text"
      },
      "source": [
        "<a href=\"https://colab.research.google.com/github/lincentpega/course-work-2022/blob/main/Iris.ipynb\" target=\"_parent\"><img src=\"https://colab.research.google.com/assets/colab-badge.svg\" alt=\"Open In Colab\"/></a>"
      ]
    },
    {
      "cell_type": "code",
      "execution_count": null,
      "metadata": {
        "colab": {
          "base_uri": "https://localhost:8080/"
        },
        "id": "JisU0gOvd0eP",
        "outputId": "b903314c-0024-49ae-fc7a-ac1ea572ee99"
      },
      "outputs": [
        {
          "output_type": "stream",
          "name": "stdout",
          "text": [
            "Drive already mounted at /content/drive; to attempt to forcibly remount, call drive.mount(\"/content/drive\", force_remount=True).\n"
          ]
        }
      ],
      "source": [
        "from google.colab import drive\n",
        "drive.mount('/content/drive')\n",
        "\n",
        "import pandas as pd\n",
        "import numpy as np\n",
        "import seaborn as sns\n",
        "\n",
        "\n",
        "import matplotlib.pyplot as plt\n",
        "from sklearn import preprocessing\n",
        "from sklearn import metrics"
      ]
    },
    {
      "cell_type": "code",
      "execution_count": null,
      "metadata": {
        "id": "UDR4l40Nd0eT"
      },
      "outputs": [],
      "source": [
        "import warnings\n",
        "warnings.simplefilter('ignore')\n",
        "\n",
        "# увеличиваем дефолтный размер графиков\n",
        "from pylab import rcParams\n",
        "rcParams['figure.figsize'] = 8, 5"
      ]
    },
    {
      "cell_type": "code",
      "execution_count": null,
      "metadata": {
        "id": "pT6AXJX9d0eV"
      },
      "outputs": [],
      "source": [
        "data = pd.read_csv('/content/drive/MyDrive/Jupyter Notebooks/Course-work-2022/Iris/iris.data', sep=',')\n",
        "data.columns = ['sep_length', 'sep_width', 'pet_length', 'pet_width', 'class']\n",
        "numeric = ['sep_length', 'sep_width', 'pet_length', 'pet_width']\n",
        "\n",
        "# integerized_data = preprocessing.LabelEncoder().fit(data['class'])\n",
        "# data['class'] = integerized_data.transform(data['class'])\n",
        "# print('class', integerized_data.classes_)\n"
      ]
    },
    {
      "cell_type": "code",
      "execution_count": null,
      "metadata": {
        "id": "qV1ptyTYd0eW"
      },
      "outputs": [],
      "source": [
        "data_new = pd.get_dummies(data, columns=[\"class\"], prefix=\"class\")"
      ]
    },
    {
      "cell_type": "code",
      "execution_count": null,
      "metadata": {
        "scrolled": true,
        "colab": {
          "base_uri": "https://localhost:8080/",
          "height": 287
        },
        "id": "gkVMLk71d0eX",
        "outputId": "410a04c6-f248-4e49-b543-5ce04f264957"
      },
      "outputs": [
        {
          "output_type": "execute_result",
          "data": {
            "text/plain": [
              "   sep_length  sep_width  pet_length  pet_width  class_Iris-setosa  \\\n",
              "0         4.9        3.0         1.4        0.2                  1   \n",
              "1         4.7        3.2         1.3        0.2                  1   \n",
              "2         4.6        3.1         1.5        0.2                  1   \n",
              "3         5.0        3.6         1.4        0.2                  1   \n",
              "4         5.4        3.9         1.7        0.4                  1   \n",
              "\n",
              "   class_Iris-versicolor  class_Iris-virginica  \n",
              "0                      0                     0  \n",
              "1                      0                     0  \n",
              "2                      0                     0  \n",
              "3                      0                     0  \n",
              "4                      0                     0  "
            ],
            "text/html": [
              "\n",
              "  <div id=\"df-573b94ca-aa62-4518-a1e3-fe0249fc43d5\">\n",
              "    <div class=\"colab-df-container\">\n",
              "      <div>\n",
              "<style scoped>\n",
              "    .dataframe tbody tr th:only-of-type {\n",
              "        vertical-align: middle;\n",
              "    }\n",
              "\n",
              "    .dataframe tbody tr th {\n",
              "        vertical-align: top;\n",
              "    }\n",
              "\n",
              "    .dataframe thead th {\n",
              "        text-align: right;\n",
              "    }\n",
              "</style>\n",
              "<table border=\"1\" class=\"dataframe\">\n",
              "  <thead>\n",
              "    <tr style=\"text-align: right;\">\n",
              "      <th></th>\n",
              "      <th>sep_length</th>\n",
              "      <th>sep_width</th>\n",
              "      <th>pet_length</th>\n",
              "      <th>pet_width</th>\n",
              "      <th>class_Iris-setosa</th>\n",
              "      <th>class_Iris-versicolor</th>\n",
              "      <th>class_Iris-virginica</th>\n",
              "    </tr>\n",
              "  </thead>\n",
              "  <tbody>\n",
              "    <tr>\n",
              "      <th>0</th>\n",
              "      <td>4.9</td>\n",
              "      <td>3.0</td>\n",
              "      <td>1.4</td>\n",
              "      <td>0.2</td>\n",
              "      <td>1</td>\n",
              "      <td>0</td>\n",
              "      <td>0</td>\n",
              "    </tr>\n",
              "    <tr>\n",
              "      <th>1</th>\n",
              "      <td>4.7</td>\n",
              "      <td>3.2</td>\n",
              "      <td>1.3</td>\n",
              "      <td>0.2</td>\n",
              "      <td>1</td>\n",
              "      <td>0</td>\n",
              "      <td>0</td>\n",
              "    </tr>\n",
              "    <tr>\n",
              "      <th>2</th>\n",
              "      <td>4.6</td>\n",
              "      <td>3.1</td>\n",
              "      <td>1.5</td>\n",
              "      <td>0.2</td>\n",
              "      <td>1</td>\n",
              "      <td>0</td>\n",
              "      <td>0</td>\n",
              "    </tr>\n",
              "    <tr>\n",
              "      <th>3</th>\n",
              "      <td>5.0</td>\n",
              "      <td>3.6</td>\n",
              "      <td>1.4</td>\n",
              "      <td>0.2</td>\n",
              "      <td>1</td>\n",
              "      <td>0</td>\n",
              "      <td>0</td>\n",
              "    </tr>\n",
              "    <tr>\n",
              "      <th>4</th>\n",
              "      <td>5.4</td>\n",
              "      <td>3.9</td>\n",
              "      <td>1.7</td>\n",
              "      <td>0.4</td>\n",
              "      <td>1</td>\n",
              "      <td>0</td>\n",
              "      <td>0</td>\n",
              "    </tr>\n",
              "  </tbody>\n",
              "</table>\n",
              "</div>\n",
              "      <button class=\"colab-df-convert\" onclick=\"convertToInteractive('df-573b94ca-aa62-4518-a1e3-fe0249fc43d5')\"\n",
              "              title=\"Convert this dataframe to an interactive table.\"\n",
              "              style=\"display:none;\">\n",
              "        \n",
              "  <svg xmlns=\"http://www.w3.org/2000/svg\" height=\"24px\"viewBox=\"0 0 24 24\"\n",
              "       width=\"24px\">\n",
              "    <path d=\"M0 0h24v24H0V0z\" fill=\"none\"/>\n",
              "    <path d=\"M18.56 5.44l.94 2.06.94-2.06 2.06-.94-2.06-.94-.94-2.06-.94 2.06-2.06.94zm-11 1L8.5 8.5l.94-2.06 2.06-.94-2.06-.94L8.5 2.5l-.94 2.06-2.06.94zm10 10l.94 2.06.94-2.06 2.06-.94-2.06-.94-.94-2.06-.94 2.06-2.06.94z\"/><path d=\"M17.41 7.96l-1.37-1.37c-.4-.4-.92-.59-1.43-.59-.52 0-1.04.2-1.43.59L10.3 9.45l-7.72 7.72c-.78.78-.78 2.05 0 2.83L4 21.41c.39.39.9.59 1.41.59.51 0 1.02-.2 1.41-.59l7.78-7.78 2.81-2.81c.8-.78.8-2.07 0-2.86zM5.41 20L4 18.59l7.72-7.72 1.47 1.35L5.41 20z\"/>\n",
              "  </svg>\n",
              "      </button>\n",
              "      \n",
              "  <style>\n",
              "    .colab-df-container {\n",
              "      display:flex;\n",
              "      flex-wrap:wrap;\n",
              "      gap: 12px;\n",
              "    }\n",
              "\n",
              "    .colab-df-convert {\n",
              "      background-color: #E8F0FE;\n",
              "      border: none;\n",
              "      border-radius: 50%;\n",
              "      cursor: pointer;\n",
              "      display: none;\n",
              "      fill: #1967D2;\n",
              "      height: 32px;\n",
              "      padding: 0 0 0 0;\n",
              "      width: 32px;\n",
              "    }\n",
              "\n",
              "    .colab-df-convert:hover {\n",
              "      background-color: #E2EBFA;\n",
              "      box-shadow: 0px 1px 2px rgba(60, 64, 67, 0.3), 0px 1px 3px 1px rgba(60, 64, 67, 0.15);\n",
              "      fill: #174EA6;\n",
              "    }\n",
              "\n",
              "    [theme=dark] .colab-df-convert {\n",
              "      background-color: #3B4455;\n",
              "      fill: #D2E3FC;\n",
              "    }\n",
              "\n",
              "    [theme=dark] .colab-df-convert:hover {\n",
              "      background-color: #434B5C;\n",
              "      box-shadow: 0px 1px 3px 1px rgba(0, 0, 0, 0.15);\n",
              "      filter: drop-shadow(0px 1px 2px rgba(0, 0, 0, 0.3));\n",
              "      fill: #FFFFFF;\n",
              "    }\n",
              "  </style>\n",
              "\n",
              "      <script>\n",
              "        const buttonEl =\n",
              "          document.querySelector('#df-573b94ca-aa62-4518-a1e3-fe0249fc43d5 button.colab-df-convert');\n",
              "        buttonEl.style.display =\n",
              "          google.colab.kernel.accessAllowed ? 'block' : 'none';\n",
              "\n",
              "        async function convertToInteractive(key) {\n",
              "          const element = document.querySelector('#df-573b94ca-aa62-4518-a1e3-fe0249fc43d5');\n",
              "          const dataTable =\n",
              "            await google.colab.kernel.invokeFunction('convertToInteractive',\n",
              "                                                     [key], {});\n",
              "          if (!dataTable) return;\n",
              "\n",
              "          const docLinkHtml = 'Like what you see? Visit the ' +\n",
              "            '<a target=\"_blank\" href=https://colab.research.google.com/notebooks/data_table.ipynb>data table notebook</a>'\n",
              "            + ' to learn more about interactive tables.';\n",
              "          element.innerHTML = '';\n",
              "          dataTable['output_type'] = 'display_data';\n",
              "          await google.colab.output.renderOutput(dataTable, element);\n",
              "          const docLink = document.createElement('div');\n",
              "          docLink.innerHTML = docLinkHtml;\n",
              "          element.appendChild(docLink);\n",
              "        }\n",
              "      </script>\n",
              "    </div>\n",
              "  </div>\n",
              "  "
            ]
          },
          "metadata": {},
          "execution_count": 83
        }
      ],
      "source": [
        "data_new.head()"
      ]
    },
    {
      "cell_type": "code",
      "execution_count": null,
      "metadata": {
        "scrolled": false,
        "id": "SxX8pUoVd0eY"
      },
      "outputs": [],
      "source": [
        "%config InlineBackend.figure_format = 'png'\n",
        "# sns.pairplot(data[numeric + ['class']], hue='class', kind='kde')\n",
        "# plt.show()"
      ]
    },
    {
      "cell_type": "code",
      "execution_count": null,
      "metadata": {
        "id": "LOQrNPtLd0ea"
      },
      "outputs": [],
      "source": [
        "def sigmoid(x):\n",
        "  return 1 / (1 + np.exp(-x))\n",
        "\n",
        "def tanh(x):\n",
        "    return np.tanh(x)\n",
        "\n",
        "def deriv_tanh(x):\n",
        "    return 1 - np.square(np.tanh(x))\n",
        "\n",
        "def deriv_sigmoid(x):\n",
        "  fx = sigmoid(x)\n",
        "  return fx * (1 - fx)\n",
        "\n",
        "def mse_loss(y, y_hat):\n",
        "  return ((y - y_hat) ** 2).mean()\n",
        "\n",
        "def logloss(y, a):\n",
        "  return -(y*np.log(a) + (1-y)*np.log(1-a))\n",
        "\n",
        "def d_logloss(y, a):\n",
        "    return (a - y)/(a*(1 - a))\n"
      ]
    },
    {
      "cell_type": "code",
      "execution_count": null,
      "metadata": {
        "id": "DcqsM5jBd0ea"
      },
      "outputs": [],
      "source": [
        "class Layer:\n",
        "\n",
        "    activationFunctions = {\n",
        "        'tanh': (tanh, deriv_tanh),\n",
        "        'sigmoid': (sigmoid, deriv_sigmoid)\n",
        "    }\n",
        "    learning_rate = 0.1\n",
        "\n",
        "    def __init__(self, inputs, neurons, activation):\n",
        "        self.W = np.random.randn(neurons, inputs)\n",
        "        self.b = np.zeros((neurons, 1))\n",
        "        self.act, self.d_act = self.activationFunctions.get(activation)\n",
        "\n",
        "    def feedforward(self, A_prev):\n",
        "        self.A_prev = A_prev\n",
        "        self.Z = np.dot(self.W, self.A_prev) + self.b\n",
        "        self.A = self.act(self.Z)\n",
        "        return self.A\n",
        "\n",
        "    def backprop(self, dA):\n",
        "        dZ = np.multiply(self.d_act(self.Z), dA)\n",
        "        dW = 1/dZ.shape[1] * np.dot(dZ, self.A_prev.T)\n",
        "        db = 1/dZ.shape[1] * np.sum(dZ, axis=1, keepdims=True)\n",
        "        dA_prev = np.dot(self.W.T, dZ)\n",
        "\n",
        "        self.W = self.W - self.learning_rate * dW\n",
        "        self.b = self.b - self.learning_rate * db\n",
        "\n",
        "        return dA_prev"
      ]
    },
    {
      "cell_type": "markdown",
      "metadata": {
        "id": "bBoS14KUd0ec"
      },
      "source": [
        "m - number of samples"
      ]
    },
    {
      "cell_type": "code",
      "execution_count": null,
      "metadata": {
        "id": "2_iBDAwvd0ef"
      },
      "outputs": [],
      "source": [
        "from sklearn.model_selection import train_test_split\n",
        "X = data_new.to_numpy()\n",
        "X = X[:, :-3]\n",
        "Y = data_new.to_numpy()\n",
        "Y = Y[:,-3:]\n",
        "x_train, x_test, y_train, y_test = train_test_split(X, Y, test_size = 0.33, random_state = 42)\n",
        "x_train = x_train.T\n",
        "y_train = y_train.T\n",
        "x_test = x_test.T\n",
        "\n",
        "m = 75\n",
        "epochs = 3000"
      ]
    },
    {
      "cell_type": "code",
      "execution_count": null,
      "metadata": {
        "id": "pj6FvvGfd0el"
      },
      "outputs": [],
      "source": [
        "# from sklearn.linear_model import LogisticRegression\n",
        "\n",
        "# logisticRegr = LogisticRegression()\n",
        "# logisticRegr.fit(x_train.T, y_train.T)\n",
        "# log_predictions = logisticRegr.predict(x_test)"
      ]
    },
    {
      "cell_type": "code",
      "execution_count": null,
      "metadata": {
        "id": "YuVzF0wCd0en"
      },
      "outputs": [],
      "source": [
        "layers = [Layer(4, 7, 'sigmoid'), Layer(7, 3, 'sigmoid')]\n",
        "costs = [] # to plot graph \n",
        "\n",
        "for epoch in range(epochs):\n",
        "    # Feedforward\n",
        "\n",
        "    A = x_train\n",
        "    for layer in layers:\n",
        "        A = layer.feedforward(A)\n",
        "    # Calulate cost to plot graph\n",
        "    cost = 1/m * np.sum(logloss(y_train, A))\n",
        "    costs.append(cost)\n",
        "\n",
        "    # Backpropagation\n",
        "    dA = d_logloss(y_train, A)\n",
        "    for layer in reversed(layers):\n",
        "        dA = layer.backprop(dA)\n"
      ]
    },
    {
      "cell_type": "code",
      "execution_count": null,
      "metadata": {
        "colab": {
          "base_uri": "https://localhost:8080/",
          "height": 327
        },
        "id": "Yz8cZ6gUd0eo",
        "outputId": "b3a4519e-7d86-4ed8-cf43-0cd19e290535"
      },
      "outputs": [
        {
          "output_type": "display_data",
          "data": {
            "text/plain": [
              "<Figure size 576x360 with 1 Axes>"
            ],
            "image/png": "[encoded data removed]"
          },
          "metadata": {}
        }
      ],
      "source": [
        "import matplotlib.pyplot as plt\n",
        "plt.plot(range(epochs), costs)\n",
        "plt.show()"
      ]
    },
    {
      "cell_type": "code",
      "execution_count": null,
      "metadata": {
        "id": "NXWr6_3wd0eq"
      },
      "outputs": [],
      "source": [
        "x_test = data_new.to_numpy()\n",
        "x_test = x_test[1::2, 0:-3].T\n",
        "\n",
        "y_test = data_new.to_numpy()\n",
        "y_test = y_test[1::2,-3:]\n",
        "m = 74\n",
        "\n",
        "# Making predictions\n",
        "A = x_test\n",
        "for layer in layers:\n",
        "    A = layer.feedforward(A)\n",
        "A = np.around(A) # округление, чтобы получить one hote code\n",
        "\n",
        "y_cap = A.T.copy()\n"
      ]
    },
    {
      "cell_type": "code",
      "execution_count": null,
      "metadata": {
        "colab": {
          "base_uri": "https://localhost:8080/",
          "height": 352
        },
        "id": "FfgZcm_wd0er",
        "outputId": "ee1bfb70-48a8-4e12-d266-8d5263704bd1"
      },
      "outputs": [
        {
          "output_type": "stream",
          "name": "stdout",
          "text": [
            "accuracy =  0.972972972972973\n"
          ]
        },
        {
          "output_type": "display_data",
          "data": {
            "text/plain": [
              "<Figure size 576x360 with 2 Axes>"
            ],
            "image/png": "[encoded data removed]"
          },
          "metadata": {}
        }
      ],
      "source": [
        "from sklearn.svm import SVC\n",
        "lb = preprocessing.LabelBinarizer()\n",
        "lb.fit([1, 2, 3])\n",
        "\n",
        "y_cap_integerized = lb.inverse_transform(y_cap)\n",
        "y_test_integerized = lb.inverse_transform(y_test)\n",
        "\n",
        "conf_matrix = metrics.confusion_matrix(y_test_integerized, y_cap_integerized)\n",
        "\n",
        "sum_true = 0\n",
        "sum_false = 0\n",
        "for i in range(conf_matrix.shape[0]):\n",
        "    for j in range(conf_matrix.shape[1]):\n",
        "        if i == j:\n",
        "            sum_true += conf_matrix[i][j]\n",
        "        else: sum_false += conf_matrix[i][j]\n",
        "\n",
        "accuracy = sum_true / (sum_false + sum_true) \n",
        "print('accuracy = ', accuracy) \n",
        "\n",
        "df_cm = pd.DataFrame(conf_matrix, ['Iris-setosa', 'Iris-versicolor', 'Iris-virginica'], ['Iris-setosa', 'Iris-versicolor', 'Iris-virginica'])\n",
        "sns.set(font_scale=1.4)\n",
        "sns.heatmap(df_cm, annot=True, annot_kws={\"size\": 16})\n",
        "plt.show()\n"
      ]
    },
    {
      "cell_type": "code",
      "execution_count": null,
      "metadata": {
        "id": "XX0fjUrrd0es"
      },
      "outputs": [],
      "source": [
        "# log_conf_matrix = metrics.confusion_matrix(y_test_integerized, log_predictions)\n",
        "\n",
        "# sum_true = 0\n",
        "# sum_false = 0\n",
        "# for i in range(log_conf_matrix.shape[0]):\n",
        "#     for j in range(log_conf_matrix.shape[1]):\n",
        "#         if i == j:\n",
        "#             sum_true += log_conf_matrix[i][j]\n",
        "#         else: sum_false += log_conf_matrix[i][j]\n",
        "\n",
        "# accuracy = sum_true / (sum_false + sum_true) \n",
        "# print('accuracy = ', accuracy) \n",
        "\n",
        "# df_cm = pd.DataFrame(log_conf_matrix, ['Iris-setosa', 'Iris-versicolor', 'Iris-virginica'], ['Iris-setosa', 'Iris-versicolor', 'Iris-virginica'])\n",
        "# sns.set(font_scale=1.4)\n",
        "# sns.heatmap(df_cm, annot=True, annot_kws={\"size\": 16})\n",
        "# plt.show()"
      ]
    }
  ],
  "metadata": {
    "interpreter": {
      "hash": "69034f69c89d64ac352d2492480378d59a178c95fd81bc51ed6b8cd8986d7447"
    },
    "kernelspec": {
      "display_name": "Python 3 (ipykernel)",
      "language": "python",
      "name": "python3"
    },
    "language_info": {
      "codemirror_mode": {
        "name": "ipython",
        "version": 3
      },
      "file_extension": ".py",
      "mimetype": "text/x-python",
      "name": "python",
      "nbconvert_exporter": "python",
      "pygments_lexer": "ipython3",
      "version": "3.9.12"
    },
    "colab": {
      "name": "Iris.ipynb",
      "provenance": [],
      "collapsed_sections": [],
      "include_colab_link": true
    }
  },
  "nbformat": 4,
  "nbformat_minor": 0
}